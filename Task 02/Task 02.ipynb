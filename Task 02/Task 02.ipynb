{
  "cells": [
    {
      "cell_type": "markdown",
      "source": [
        "\n",
        "# Task 02\n",
        "### This programm includes\n",
        "1. Calculate the average budget of all movies in the data set.\n",
        "2. Print out every movie that has a budget higher than the average you calculated.\n",
        "3.  You should also print out how much higher than the average the movie's budget was.\n",
        "4. Print out how many movies spent more than the average you calculated.\n",
        "5. If you want a little extra challenge, allow users to add more movies to the data set before running the\n",
        "calculations.\n"
      ],
      "metadata": {
        "id": "QUPgmxrw7r5w"
      }
    },
    {
      "cell_type": "code",
      "source": [
        "movies = [\n",
        "    (\"Eternal Sunshine of the Spotless Mind\", 20000000),\n",
        "    (\"Memento\", 9000000),\n",
        "    (\"Requiem for a Dream\", 4500000),\n",
        "    (\"Pirates of the Caribbean: On Stranger Tides\", 379000000),\n",
        "    (\"Avengers: Age of Ultron\", 365000000),\n",
        "    (\"Avengers: Endgame\", 356000000),\n",
        "    (\"Incredibles 2\", 200000000)\n",
        "]\n",
        "\n",
        "limit = int(input(\"Enter the number of movies you want to add: \"))\n",
        "\n",
        "for i in range(limit):\n",
        "    new_movie = input(\"Enter the name of the movie: \")\n",
        "    while True:\n",
        "        budget = input(\"Enter the budget of the movie: \")\n",
        "        if budget.isdigit():\n",
        "            budget = int(budget)\n",
        "            break\n",
        "        else:\n",
        "            print(\"Please enter a valid number for the budget.\")\n",
        "    movies.append((new_movie, budget))\n",
        "    print(\"The updated list of movies is:\", movies)\n",
        "\n",
        "total_budget = sum(budget for name, budget in movies)\n",
        "print(\"Total Budget of movies is:\", total_budget)\n",
        "\n",
        "average_budget = total_budget / len(movies)\n",
        "print(\"Average Budget of movies is:\", average_budget)\n",
        "\n",
        "high_number = 0\n",
        "lower_number = 0\n",
        "\n",
        "for name, budget in movies:\n",
        "    if budget > average_budget:\n",
        "        diff = budget - average_budget\n",
        "        high_number += 1\n",
        "        print(\"The name of movie is:\", name, \"and the budget was higher than average by:\", diff)\n",
        "    elif budget < average_budget:\n",
        "        diff = average_budget - budget\n",
        "        lower_number += 1\n",
        "        print(\"The name of movie is:\", name, \"and the budget was less than average by:\", diff)\n",
        "    else:\n",
        "        print(\"The name of movie is:\", name, \"and the budget was exactly equal to average\")\n",
        "\n",
        "print(\"Number of movies with budget higher than average:\", high_number)\n",
        "print(\"Number of movies with budget lower than average:\", lower_number)\n",
        "print(\"Good Bye\")\n"
      ],
      "metadata": {
        "colab": {
          "base_uri": "https://localhost:8080/"
        },
        "id": "IWRPkVYQVVOK",
        "outputId": "476b2296-5f27-4f1e-fadd-386bf6e12e5d"
      },
      "execution_count": null,
      "outputs": [
        {
          "output_type": "stream",
          "name": "stdout",
          "text": [
            "Enter the number of movies you want to add: 2\n",
            "Enter the name of the movie: Titanic\n",
            "Enter the budget of the movie: 3\n",
            "The updated list of movies is: [('Eternal Sunshine of the Spotless Mind', 20000000), ('Memento', 9000000), ('Requiem for a Dream', 4500000), ('Pirates of the Caribbean: On Stranger Tides', 379000000), ('Avengers: Age of Ultron', 365000000), ('Avengers: Endgame', 356000000), ('Incredibles 2', 200000000), ('Titanic', 3)]\n",
            "Enter the name of the movie: The game of thorn\n",
            "Enter the budget of the movie: 43\n",
            "The updated list of movies is: [('Eternal Sunshine of the Spotless Mind', 20000000), ('Memento', 9000000), ('Requiem for a Dream', 4500000), ('Pirates of the Caribbean: On Stranger Tides', 379000000), ('Avengers: Age of Ultron', 365000000), ('Avengers: Endgame', 356000000), ('Incredibles 2', 200000000), ('Titanic', 3), ('The game of thorn', 43)]\n",
            "Total Budget of movies is: 1333500046\n",
            "Average Budget of movies is: 148166671.7777778\n",
            "The name of movie is: Eternal Sunshine of the Spotless Mind and the budget was less than average by: 128166671.77777779\n",
            "The name of movie is: Memento and the budget was less than average by: 139166671.7777778\n",
            "The name of movie is: Requiem for a Dream and the budget was less than average by: 143666671.7777778\n",
            "The name of movie is: Pirates of the Caribbean: On Stranger Tides and the budget was higher than average by: 230833328.2222222\n",
            "The name of movie is: Avengers: Age of Ultron and the budget was higher than average by: 216833328.2222222\n",
            "The name of movie is: Avengers: Endgame and the budget was higher than average by: 207833328.2222222\n",
            "The name of movie is: Incredibles 2 and the budget was higher than average by: 51833328.22222221\n",
            "The name of movie is: Titanic and the budget was less than average by: 148166668.7777778\n",
            "The name of movie is: The game of thorn and the budget was less than average by: 148166628.7777778\n",
            "Number of movies with budget higher than average: 4\n",
            "Number of movies with budget lower than average: 5\n",
            "Good Bye\n"
          ]
        }
      ]
    },
    {
      "cell_type": "markdown",
      "source": [
        "### Task 01\n",
        "This is a very common coding interview question.  \n",
        "We need to print numbers from **1 to 100** with the following rules:  \n",
        "\n",
        "- If the number is divisible by **3**, print **\"Fizz\"**  \n",
        "- If the number is divisible by **5**, print **\"Buzz\"**  \n",
        "- If the number is divisible by both **3 and 5**, print **\"FizzBuzz\"**  \n",
        "- Otherwise, just print the number itself"
      ],
      "metadata": {
        "id": "3nxzZgfTRgwz"
      }
    },
    {
      "cell_type": "code",
      "source": [
        "import random\n",
        "\n",
        "class Fizzbuzz:\n",
        "    def __init__(self):\n",
        "        self.First_number = 0\n",
        "        self.score = 0\n",
        "\n",
        "    def check_game(self, number):\n",
        "        if number % 3 == 0 and number % 5 == 0:\n",
        "            self.correct = \"fizzbuzz\"\n",
        "        elif number % 3 == 0:\n",
        "            self.correct = \"fizz\"\n",
        "        elif number % 5 == 0:\n",
        "            self.correct = \"buzz\"\n",
        "        else:\n",
        "            self.correct = \"number\"\n",
        "\n",
        "    def start_game(self):\n",
        "        rounds = int(input(\"Enter the rounds you want to play game: \"))\n",
        "\n",
        "        for i in range(rounds):\n",
        "            number = random.randint(1, 100)\n",
        "            print(\"Number on screen is:\", number)\n",
        "\n",
        "            guess = input(\"Choose your guess (fizz/buzz/fizzbuzz/number): \").strip().lower()\n",
        "            self.check_game(number)\n",
        "\n",
        "            if guess == self.correct:\n",
        "                print(\"Correct!\")\n",
        "                self.score += 1\n",
        "            else:\n",
        "                print(\"Wrong! The correct answer is\", self.correct)\n",
        "                total_sum = self.First_number + number\n",
        "\n",
        "                if self.score > 0:\n",
        "                    self.score -= 1\n",
        "\n",
        "            self.First_number = number\n",
        "            print(\"Current Score:\", self.score)\n",
        "\n",
        "        print(\"Game Finished! Your final score is\", self.score)\n",
        "\n",
        "\n",
        "run = Fizzbuzz()\n",
        "run.start_game()\n"
      ],
      "metadata": {
        "colab": {
          "base_uri": "https://localhost:8080/"
        },
        "id": "zU8jIX1iQUVA",
        "outputId": "99ceac1a-c456-4665-b904-7b408f9895da"
      },
      "execution_count": 13,
      "outputs": [
        {
          "output_type": "stream",
          "name": "stdout",
          "text": [
            "Enter the rounds you want to play game: 4\n",
            "Number on screen is: 80\n",
            "Choose your guess (fizz/buzz/fizzbuzz/number): number\n",
            "Wrong! The correct answer is buzz\n",
            "Current Score: 0\n",
            "Number on screen is: 40\n",
            "Choose your guess (fizz/buzz/fizzbuzz/number): buzz\n",
            "Correct!\n",
            "Current Score: 1\n",
            "Number on screen is: 18\n",
            "Choose your guess (fizz/buzz/fizzbuzz/number): buzz\n",
            "Wrong! The correct answer is fizz\n",
            "Current Score: 0\n",
            "Number on screen is: 68\n",
            "Choose your guess (fizz/buzz/fizzbuzz/number): fizz\n",
            "Wrong! The correct answer is number\n",
            "Current Score: 0\n",
            "Game Finished! Your final score is 0\n"
          ]
        }
      ]
    }
  ],
  "metadata": {
    "colab": {
      "provenance": []
    },
    "kernelspec": {
      "display_name": "Python 3",
      "name": "python3"
    }
  },
  "nbformat": 4,
  "nbformat_minor": 0
}