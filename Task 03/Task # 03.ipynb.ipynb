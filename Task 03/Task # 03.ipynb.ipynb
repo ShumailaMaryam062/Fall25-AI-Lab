{
  "cells": [
    {
      "cell_type": "markdown",
      "source": [
        "### **Task 03**\n",
        "Imagine a smart home with multiple rooms. Each room has a thermostat that controls the heating system.\n",
        "The goal is to maintain a comfortable temperature in each room (e.g., 22°C). The smart home system is\n",
        "equipped with a Simple Reflex Agent that can:\n",
        "1. Sense the current temperature of each room.\n",
        "2.  Turn the heater on if the temperature is below 22°C.\n",
        "3. Turn the heater off if the temperature is 22°C or above.\n",
        "We will also explore a Model-Based Reflex Agent that remembers whether the heater was on or off in the\n",
        "previous cycle to avoid redundant actions\n",
        "### **Model Based Agent**\n",
        "1.  This agent not only checks the current temperature but also remembers the previous action to avoid turning the heater on or off unnecessarily."
      ],
      "metadata": {
        "id": "9oBZqXET0e4o"
      }
    },
    {
      "cell_type": "code",
      "source": [
        "class ModelBasedReflexAgent:\n",
        "    Action_on = \"Turn ON Heater\"\n",
        "    Action_off= \"Turn OFF Heater\"\n",
        "\n",
        "    def __init__(self, temp):\n",
        "        self.fixed_temp = temp\n",
        "        self.last_action = None\n",
        "\n",
        "    def sensor(self, temp):\n",
        "        self.current_temp = temp\n",
        "\n",
        "    def performance(self):\n",
        "        if self.current_temp < self.fixed_temp:\n",
        "            action = self.Action_on\n",
        "        else:\n",
        "            action = self.Action_off\n",
        "\n",
        "        if self.last_action == action:\n",
        "            return \"No change in the Action \"\n",
        "        else:\n",
        "            self.last_action = action\n",
        "            return action\n",
        "\n",
        "    def actuator(self, room_name):\n",
        "        action = self.performance()\n",
        "        print(room_name, \"temperature is\", self.current_temp, \"°C =>\", action)\n",
        "\n",
        "rooms = {\n",
        "    \"Living_Room\": 20,\n",
        "    \"Drawing_Room\": 29,\n",
        "    \"kitchen\":20,\n",
        "    \"Bed_Rooms\": 18,\n",
        "    \"study_Room\": 25,\n",
        "    \"Dinning_Room\": 28,\n",
        "    \"Guest_Room\": 35,\n",
        "    \"Gayrage\": 30,\n",
        "}\n",
        "print(\"Model-Based Reflex Agent Detection\")\n",
        "agent = ModelBasedReflexAgent(22)\n",
        "for room, temp in rooms.items():\n",
        "    agent.sensor(temp)\n",
        "    agent.actuator(room)\n"
      ],
      "metadata": {
        "id": "tlpK9F3Y6tfJ",
        "outputId": "67eb8a90-b897-43cc-864b-ac27e006ffd7",
        "colab": {
          "base_uri": "https://localhost:8080/"
        }
      },
      "execution_count": 79,
      "outputs": [
        {
          "output_type": "stream",
          "name": "stdout",
          "text": [
            "Model-Based Reflex Agent Detection\n",
            "Living_Room temperature is 20 °C => Turn ON Heater\n",
            "Drawing_Room temperature is 29 °C => Turn OFF Heater\n",
            "kitchen temperature is 20 °C => Turn ON Heater\n",
            "Bed_Rooms temperature is 18 °C => No change in the Action \n",
            "study_Room temperature is 25 °C => Turn OFF Heater\n",
            "Dinning_Room temperature is 28 °C => No change in the Action \n",
            "Guest_Room temperature is 35 °C => No change in the Action \n",
            "Gayrage temperature is 30 °C => No change in the Action \n"
          ]
        }
      ]
    }
  ],
  "metadata": {
    "colab": {
      "name": "scratchpad",
      "provenance": []
    },
    "kernelspec": {
      "display_name": "Python 3",
      "name": "python3"
    }
  },
  "nbformat": 4,
  "nbformat_minor": 0
}