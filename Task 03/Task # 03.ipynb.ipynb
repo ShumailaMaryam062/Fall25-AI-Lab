{
  "cells": [
    {
      "cell_type": "markdown",
      "metadata": {
        "id": "9oBZqXET0e4o"
      },
      "source": [
        "### **Task 03**\n",
        "Imagine a smart home with multiple rooms. Each room has a thermostat that controls the heating system.\n",
        "The goal is to maintain a comfortable temperature in each room (e.g., 22°C). The smart home system is\n",
        "equipped with a Simple Reflex Agent that can:\n",
        "1. Sense the current temperature of each room.\n",
        "2.  Turn the heater on if the temperature is below 22°C.\n",
        "3. Turn the heater off if the temperature is 22°C or above.\n",
        "We will also explore a Model-Based Reflex Agent that remembers whether the heater was on or off in the\n",
        "previous cycle to avoid redundant actions\n",
        "### **Model Based Agent**\n",
        "1.  This agent not only checks the current temperature but also remembers the previous action to avoid turning the heater on or off unnecessarily."
      ]
    },
    {
      "cell_type": "code",
      "execution_count": 1,
      "metadata": {
        "colab": {
          "base_uri": "https://localhost:8080/"
        },
        "id": "tlpK9F3Y6tfJ",
        "outputId": "67eb8a90-b897-43cc-864b-ac27e006ffd7"
      },
      "outputs": [
        {
          "name": "stdout",
          "output_type": "stream",
          "text": [
            "Model-Based Reflex Agent Detection\n",
            "Living_Room temperature is 20 °C => Turn ON Heater\n",
            "Drawing_Room temperature is 29 °C => Turn OFF Heater\n",
            "kitchen temperature is 20 °C => From history: Turn ON Heater\n",
            "Bed_Rooms temperature is 18 °C => Turn ON Heater\n",
            "study_Room temperature is 25 °C => Turn OFF Heater\n",
            "Dinning_Room temperature is 18 °C => From history: Turn ON Heater\n",
            "Guest_Room temperature is 35 °C => Turn OFF Heater\n",
            "Garage temperature is 30 °C => Turn OFF Heater\n"
          ]
        }
      ],
      "source": [
        "class ModelBasedReflexAgent:\n",
        "    Action_on = \"Turn ON Heater\"\n",
        "    Action_off = \"Turn OFF Heater\"\n",
        "\n",
        "    def __init__(self, temp):\n",
        "        self.fixed_temp = temp\n",
        "        self.last_action = None\n",
        "        self.history = {}\n",
        "\n",
        "    def sensor(self, temp):\n",
        "        self.current_temp = temp\n",
        "\n",
        "    def performance(self):\n",
        "        if self.current_temp in self.history:\n",
        "            return f\"From history: {self.history[self.current_temp]}\"\n",
        "        if self.current_temp < self.fixed_temp:\n",
        "            action = self.Action_on\n",
        "        else:\n",
        "            action = self.Action_off\n",
        "\n",
        "        self.history[self.current_temp] = action\n",
        "        return action\n",
        "\n",
        "    def actuator(self, room_name):\n",
        "        action = self.performance()\n",
        "        print(room_name, \"temperature is\", self.current_temp, \"°C =>\", action)\n",
        "\n",
        "\n",
        "rooms = {\n",
        "    \"Living_Room\": 20,\n",
        "    \"Drawing_Room\": 29,\n",
        "    \"kitchen\": 20,\n",
        "    \"Bed_Rooms\": 18,\n",
        "    \"study_Room\": 25,\n",
        "    \"Dinning_Room\": 18,\n",
        "    \"Guest_Room\": 35,\n",
        "    \"Garage\": 30,\n",
        "}\n",
        "\n",
        "print(\"Model-Based Reflex Agent Detection\")\n",
        "agent = ModelBasedReflexAgent(22)\n",
        "\n",
        "for room, temp in rooms.items():\n",
        "    agent.sensor(temp)\n",
        "    agent.actuator(room)\n"
      ]
    }
  ],
  "metadata": {
    "colab": {
      "name": "scratchpad",
      "provenance": []
    },
    "kernelspec": {
      "display_name": "base",
      "language": "python",
      "name": "python3"
    },
    "language_info": {
      "codemirror_mode": {
        "name": "ipython",
        "version": 3
      },
      "file_extension": ".py",
      "mimetype": "text/x-python",
      "name": "python",
      "nbconvert_exporter": "python",
      "pygments_lexer": "ipython3",
      "version": "3.13.5"
    }
  },
  "nbformat": 4,
  "nbformat_minor": 0
}
