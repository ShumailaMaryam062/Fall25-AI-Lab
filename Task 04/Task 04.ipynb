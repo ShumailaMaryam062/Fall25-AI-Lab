{
 "cells": [
  {
   "cell_type": "markdown",
   "id": "afacb71e",
   "metadata": {},
   "source": [
    "### Question 1. Write a python program to remove punctuations from the given string? "
   ]
  },
  {
   "cell_type": "code",
   "execution_count": 58,
   "id": "7c138809",
   "metadata": {},
   "outputs": [
    {
     "name": "stdout",
     "output_type": "stream",
     "text": [
      "Original: kuch,Bhi;KuchBhi!\n",
      "Without punctuation: kuchBhiKuchBhi\n"
     ]
    }
   ],
   "source": [
    "text = \"kuch,Bhi;KuchBhi!\" \n",
    "\n",
    "class Punctuation:\n",
    "    def __init__(self, text):\n",
    "        self.text = text\n",
    "        self.check_char = \"!\\\"#$%&'()*+,-./:;<=>?@[\\\\]^_`{|}~\"\n",
    "    def remove_char(self):\n",
    "        result = \"\"\n",
    "        for ch in self.text:\n",
    "            if ch not in self.check_char:   \n",
    "                result += ch\n",
    "        return result\n",
    "p = Punctuation(text)\n",
    "clean_text = p.remove_char()\n",
    "print(\"Original:\", text)\n",
    "print(\"Without punctuation:\", clean_text)"
   ]
  },
  {
   "cell_type": "markdown",
   "id": "9c791de0",
   "metadata": {},
   "source": [
    "#### Question 02 Write a python program to sort the sentence in alphabetical order? "
   ]
  },
  {
   "cell_type": "markdown",
   "id": "413d9a6a",
   "metadata": {},
   "source": [
    "#### sort by alphabet"
   ]
  },
  {
   "cell_type": "code",
   "execution_count": 29,
   "id": "e99474c3",
   "metadata": {},
   "outputs": [
    {
     "name": "stdout",
     "output_type": "stream",
     "text": [
      "Original: I am Rasikh\n",
      "Sorted by alphabet:   IRaahikms\n"
     ]
    }
   ],
   "source": [
    "text = \"I am Rasikh\"\n",
    "arr = list(text) \n",
    "\n",
    "for i in range(len(arr)):\n",
    "    for j in range(i+1, len(arr)):\n",
    "        if ord(arr[j]) < ord(arr[i]):   \n",
    "            char = arr[i]\n",
    "            arr[i] = arr[j]\n",
    "            arr[j] = char\n",
    "\n",
    "print(\"Original:\", text)\n",
    "print(\"Sorted by alphabet:\", ''.join(arr))"
   ]
  },
  {
   "cell_type": "markdown",
   "id": "305e8441",
   "metadata": {},
   "source": [
    "#### Sort by word"
   ]
  },
  {
   "cell_type": "code",
   "execution_count": 30,
   "id": "73c51b8e",
   "metadata": {},
   "outputs": [
    {
     "name": "stdout",
     "output_type": "stream",
     "text": [
      "Original: I am Rasikh\n",
      "Sorted by words: I Rasikh am\n"
     ]
    }
   ],
   "source": [
    "text = \"I am Rasikh\"\n",
    "words = text.split()  \n",
    "for i in range(len(words)):\n",
    "    for j in range(i+1, len(words)):\n",
    "        if words[j] < words[i]: \n",
    "            words[j], words[i] = words[i], words[j]\n",
    "\n",
    "sorted_text = ' '.join(words)\n",
    "print(\"Original:\", text)\n",
    "print(\"Sorted by words:\", sorted_text)"
   ]
  },
  {
   "cell_type": "markdown",
   "id": "3df43ac5",
   "metadata": {},
   "source": [
    "#### Question 03 Code for LUHN Algorithm"
   ]
  },
  {
   "cell_type": "code",
   "execution_count": 28,
   "id": "221657db",
   "metadata": {},
   "outputs": [
    {
     "name": "stdout",
     "output_type": "stream",
     "text": [
      "Original digits : [2, 2, 0, 5, 4, 9, 7, 0, 0, 7, 2, 2, 9, 9, 6, 3]\n",
      "Check digit (x): 3\n",
      "after saving last as variable: [2, 2, 0, 5, 4, 9, 7, 0, 0, 7, 2, 2, 9, 9, 6, 'x']\n",
      "Reversed digits : [6, 9, 9, 2, 2, 7, 0, 0, 7, 9, 4, 5, 0, 2, 2, 'x']\n",
      "digits after doubling : [3, 9, 9, 2, 4, 7, 0, 0, 5, 9, 8, 5, 0, 2, 4, 'x']\n",
      "Sum : 70\n",
      "Card is VALID \n"
     ]
    }
   ],
   "source": [
    "class Luhn:\n",
    "    def __init__(self, card_number):\n",
    "        self.card_number = card_number\n",
    "        self.x = card_number[-1]\n",
    "        self.subtract_value = 9\n",
    "        print(\"Original digits :\", self.card_number)\n",
    "        print(\"Check digit (x):\", self.x)\n",
    "        print(\"after saving last as variable:\", self._display())\n",
    "    def _display(self):\n",
    "        display_list = self.card_number[:-1] + ['x']\n",
    "        return display_list\n",
    "\n",
    "    def reverse(self):\n",
    "        self.card_number[:-1] = self.card_number[:-1][::-1]\n",
    "        print(\"Reversed digits :\", self._display())\n",
    "\n",
    "    def even_indexing(self):\n",
    "        for i in range(len(self.card_number) - 1):\n",
    "            if i % 2 == 0:\n",
    "                self.card_number[i] *= 2\n",
    "                if self.card_number[i] > 9:\n",
    "                    self.card_number[i] -= self.subtract_value\n",
    "        print(\"digits after doubling :\", self._display())\n",
    "\n",
    "    def check_valid(self):\n",
    "        total = sum(self.card_number)\n",
    "        print(\"Sum :\", total)\n",
    "        if total % 10 == 0:\n",
    "            print(\"Card is VALID \")\n",
    "        else:\n",
    "            print(\"Card is INVALID \")\n",
    "\n",
    "\n",
    "card = Luhn([2, 2, 0, 5, 4, 9, 7, 0, 0, 7, 2, 2, 9, 9, 6, 3])\n",
    "card.reverse()\n",
    "card.even_indexing()\n",
    "card.check_valid()\n"
   ]
  }
 ],
 "metadata": {
  "kernelspec": {
   "display_name": "base",
   "language": "python",
   "name": "python3"
  },
  "language_info": {
   "codemirror_mode": {
    "name": "ipython",
    "version": 3
   },
   "file_extension": ".py",
   "mimetype": "text/x-python",
   "name": "python",
   "nbconvert_exporter": "python",
   "pygments_lexer": "ipython3",
   "version": "3.13.5"
  }
 },
 "nbformat": 4,
 "nbformat_minor": 5
}
