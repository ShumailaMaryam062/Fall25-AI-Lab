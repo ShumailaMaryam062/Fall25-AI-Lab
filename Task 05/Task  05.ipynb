{
 "cells": [
  {
   "cell_type": "markdown",
   "id": "0207361c",
   "metadata": {},
   "source": [
    "### Question # 01: DFS with stanck and nodes"
   ]
  },
  {
   "cell_type": "markdown",
   "id": "f336af95",
   "metadata": {},
   "source": [
    "### DFS with Stack"
   ]
  },
  {
   "cell_type": "code",
   "execution_count": 17,
   "id": "d7abb441",
   "metadata": {},
   "outputs": [
    {
     "name": "stdout",
     "output_type": "stream",
     "text": [
      "Visiting stack is: A\n",
      "Visiting stack is: C\n",
      "Visiting stack is: F\n",
      "Goal found: F\n",
      "DFS path finding goal: ['A', 'C', 'F']\n"
     ]
    }
   ],
   "source": [
    "tree = {\n",
    "    'A': ['B', 'C'],\n",
    "    'B': ['D', 'E'],\n",
    "    'C': ['F'],\n",
    "    'D': [],\n",
    "    'E': [],\n",
    "    'F': ['G'],\n",
    "    'G': []\n",
    "}\n",
    "\n",
    "def dfs_stack(starting, goal):\n",
    "    visit_stack = []\n",
    "    stack = [starting]\n",
    "    while stack:\n",
    "        dfs_stack = stack.pop()\n",
    "        if dfs_stack not in visit_stack:\n",
    "            visit_stack.append(dfs_stack)\n",
    "            print(\"Visiting stack is:\", dfs_stack)\n",
    "\n",
    "            if dfs_stack == goal:\n",
    "                print(\"Goal found:\", goal)\n",
    "                break\n",
    "            for child in tree[dfs_stack]:\n",
    "                if child not in visit_stack:\n",
    "                    stack.append(child)\n",
    "\n",
    "    print(\"DFS path finding goal:\", visit_stack)\n",
    "dfs_stack('A', 'F')"
   ]
  },
  {
   "cell_type": "code",
   "execution_count": 32,
   "id": "c2c9e706",
   "metadata": {},
   "outputs": [
    {
     "name": "stdout",
     "output_type": "stream",
     "text": [
      "Visiting: C\n",
      "Visiting: F\n",
      "Visiting: G\n",
      "DFS: ['C', 'F', 'G']\n"
     ]
    }
   ],
   "source": [
    "tree = {\n",
    "    'A': ['B','C'],\n",
    "    'B': ['D','E'],\n",
    "    'C': ['F'],\n",
    "    'D': [],\n",
    "    'E': [],\n",
    "    'F': ['G'],\n",
    "    'G': []\n",
    "}\n",
    "\n",
    "def dfs(tree, start, visited, goal):\n",
    "    visited.append(start)\n",
    "    print(\"Visiting:\", start)\n",
    "    if start == goal:\n",
    "        print(\"Goal found:\", goal)\n",
    "    else:\n",
    "        for child in tree[start]:\n",
    "            if child not in visited:\n",
    "                dfs(tree, child, visited, goal)\n",
    "            else:\n",
    "                print(\"Already visited:\", child)\n",
    "visited_nodes = []\n",
    "dfs(tree, 'C', visited_nodes, 'A')\n",
    "print(\"DFS:\", visited_nodes)"
   ]
  },
  {
   "cell_type": "markdown",
   "id": "05f1e0f8",
   "metadata": {},
   "source": [
    "### Question # 02: Research about \"Inorder, Preorder, Postorder\""
   ]
  },
  {
   "cell_type": "markdown",
   "id": "b7376a1e",
   "metadata": {},
   "source": [
    "### Inorder Traversal\n",
    "\n",
    "In this method, we always go to the:\n",
    "\n",
    "1. Left child first,  \n",
    "2. Then we look at the parent (root),  \n",
    "3. And finally we go to the right child.  \n",
    "\n",
    "**For example:**  \n",
    "If our tree has A at the top, with B and C as children, and D and E under B, the Inorder sequence would be: **D, B, E, A, C**.  \n",
    "\n",
    "**Usefulness:**  \n",
    "This method is especially useful in **Binary Search Trees** because it gives the nodes in **sorted order**.\n",
    "\n",
    "\n",
    "### Preorder Traversal\n",
    "\n",
    "In this method, we always go to the:\n",
    "\n",
    "1. Parent (root) first,  \n",
    "2. Then we move to the left child,  \n",
    "3. And finally we go to the right child.  \n",
    "\n",
    "**For example:**  \n",
    "With the same tree (A at the top, B and C as children, D and E under B), the Preorder sequence would be: **A, B, D, E, C**.  \n",
    "\n",
    "**Usefulness:**  \n",
    "This is useful when we want to **copy or create** a tree structure.\n",
    "\n",
    "\n",
    "### Postorder Traversal\n",
    "\n",
    "In this method, we always go to the:\n",
    "\n",
    "1. Left child first,  \n",
    "2. Then the right child,  \n",
    "3. And finally we look at the parent (root).  \n",
    "\n",
    "**For example:**  \n",
    "Using the same tree, the Postorder sequence would be: **D, E, B, C, A**.  \n",
    "\n",
    "**Usefulness:**  \n",
    "This is useful when we want to **delete or free** a tree because we process children before the parent.\n"
   ]
  },
  {
   "cell_type": "markdown",
   "id": "34ca6023",
   "metadata": {},
   "source": [
    "| Traversal Type | Order of Visit | Example Sequence | Usefulness |\n",
    "|----------------|----------------|-----------------|------------|\n",
    "| **Inorder** | Left → Root → Right | D, B, E, A, C | Gives nodes in **sorted order** in Binary Search Trees. |\n",
    "| **Preorder** | Root → Left → Right | A, B, D, E, C | Useful to **copy or create** the tree structure. |\n",
    "| **Postorder** | Left → Right → Root | D, E, B, C, A | Useful to **delete or free** the tree, process children before parent. |"
   ]
  }
 ],
 "metadata": {
  "kernelspec": {
   "display_name": "base",
   "language": "python",
   "name": "python3"
  },
  "language_info": {
   "codemirror_mode": {
    "name": "ipython",
    "version": 3
   },
   "file_extension": ".py",
   "mimetype": "text/x-python",
   "name": "python",
   "nbconvert_exporter": "python",
   "pygments_lexer": "ipython3",
   "version": "3.13.5"
  }
 },
 "nbformat": 4,
 "nbformat_minor": 5
}
