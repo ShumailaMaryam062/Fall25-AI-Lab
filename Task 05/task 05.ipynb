{
 "cells": [
  {
   "cell_type": "code",
   "execution_count": 2,
   "id": "27e35ff9",
   "metadata": {},
   "outputs": [
    {
     "name": "stdout",
     "output_type": "stream",
     "text": [
      "first 10 num in fibonacci series: [0, 1, 1, 2, 3, 5, 8, 13, 21, 34]\n"
     ]
    }
   ],
   "source": [
    "class fibonacci_series:\n",
    "    def __init__(self, n):\n",
    "        self.n = n\n",
    "\n",
    "    def num(self):\n",
    "        a=0\n",
    "        b=1\n",
    "        series = []\n",
    "        for i in range(self.n):\n",
    "            series.append(a)\n",
    "            a, b = b, a + b\n",
    "        return series\n",
    "fibonacci_series(10)\n",
    "num = fibonacci_series(10)\n",
    "print(\"first 10 num in fibonacci series:\", num.num())"
   ]
  },
  {
   "cell_type": "code",
   "execution_count": 3,
   "id": "6b68ca86",
   "metadata": {},
   "outputs": [
    {
     "name": "stdout",
     "output_type": "stream",
     "text": [
      "Fibonacci numbers up to 52: [0, 1, 1, 2, 3, 5, 8, 13, 21, 34]\n"
     ]
    }
   ],
   "source": [
    "class fibonacci_series:\n",
    "    def __init__(self, limit):\n",
    "        self.limit = 52 \n",
    "    \n",
    "    def num(self):\n",
    "        a, b = 0, 1\n",
    "        series = []\n",
    "        while a <= self.limit:   \n",
    "            series.append(a)\n",
    "            a, b = b, a + b\n",
    "        return series\n",
    "\n",
    "x = fibonacci_series(52)\n",
    "print(\"Fibonacci numbers up to 52:\", x.num())"
   ]
  },
  {
   "cell_type": "code",
   "execution_count": 4,
   "id": "8a0c8201",
   "metadata": {},
   "outputs": [
    {
     "name": "stdout",
     "output_type": "stream",
     "text": [
      "Fibonacci series:\n",
      "0 1 1 2 3 5 8 13 21 34 "
     ]
    }
   ],
   "source": [
    "num1 =0\n",
    "num2 =1\n",
    "n = 10\n",
    "print(\"Fibonacci series:\")\n",
    "for i in range(n):\n",
    "    print(num1, end=\" \")\n",
    "    num1 , num2 = num2 , num1+num2"
   ]
  },
  {
   "cell_type": "code",
   "execution_count": 5,
   "id": "1da7e79c",
   "metadata": {},
   "outputs": [
    {
     "name": "stdout",
     "output_type": "stream",
     "text": [
      "Fibonacci series:\n",
      "0 1 1 2 3 5 8 13 21 34 "
     ]
    }
   ],
   "source": [
    "def fibonacci(num1, num2, n):\n",
    "    print(\"Fibonacci series:\")\n",
    "    for i in range(n):\n",
    "        print(num1, end=\" \")\n",
    "        num1, num2 = num2, num1 + num2\n",
    "num1 = 0\n",
    "num2 = 1\n",
    "n = 10\n",
    "fibonacci(num1, num2, n)"
   ]
  },
  {
   "cell_type": "code",
   "execution_count": 6,
   "id": "607f8d45",
   "metadata": {},
   "outputs": [
    {
     "name": "stdout",
     "output_type": "stream",
     "text": [
      "Fibonacci series:\n",
      "0 1 1 2 3 5 8 13 21 34 "
     ]
    }
   ],
   "source": [
    "def fibonacci(num1,num2,n):\n",
    "    print(\"Fibonacci series:\")\n",
    "    while True:\n",
    "        if num1 > n:\n",
    "            break\n",
    "        print(num1, end=\" \")\n",
    "        num1, num2 = num2, num1 + num2\n",
    "num1 = 0\n",
    "num2 = 1\n",
    "n = 52\n",
    "fibonacci(num1, num2, n)    "
   ]
  },
  {
   "cell_type": "code",
   "execution_count": 7,
   "id": "bf2ceb82",
   "metadata": {},
   "outputs": [
    {
     "name": "stdout",
     "output_type": "stream",
     "text": [
      "0 1 1 2 3 5 8 13 21 34 "
     ]
    }
   ],
   "source": [
    "def fibonacci(num1,num2,n):\n",
    "        if num1 > n:\n",
    "            return\n",
    "        print(num1, end=\" \")\n",
    "        num1, num2 = num2, num1 + num2\n",
    "        fibonacci(num1, num2, n)        \n",
    "num1 = 0\n",
    "num2 = 1\n",
    "n = 52\n",
    "fibonacci(num1, num2, n)    "
   ]
  },
  {
   "cell_type": "code",
   "execution_count": 2,
   "id": "1705d9d8",
   "metadata": {},
   "outputs": [
    {
     "name": "stdout",
     "output_type": "stream",
     "text": [
      "DFS: ['A', 'B']\n"
     ]
    }
   ],
   "source": [
    "#DFS \n",
    "tree={\n",
    "    'A':['B','C',],\n",
    "    'B':['D','E'],\n",
    "    'C':['F'],\n",
    "    'D':[],\n",
    "    'E':[],\n",
    "    'F':['G'],\n",
    "    'G':[],\n",
    "}\n",
    "visited=list()\n",
    "def d(start,goal) :\n",
    "   if goal not in visited:\n",
    "      visited.append(start) \n",
    "      for i in tree[start]:\n",
    "         d(i,goal)\n",
    "   return visited\n",
    "print(\"DFS:\",d('A','B'))     "
   ]
  }
 ],
 "metadata": {
  "kernelspec": {
   "display_name": "base",
   "language": "python",
   "name": "python3"
  },
  "language_info": {
   "codemirror_mode": {
    "name": "ipython",
    "version": 3
   },
   "file_extension": ".py",
   "mimetype": "text/x-python",
   "name": "python",
   "nbconvert_exporter": "python",
   "pygments_lexer": "ipython3",
   "version": "3.13.5"
  }
 },
 "nbformat": 4,
 "nbformat_minor": 5
}
