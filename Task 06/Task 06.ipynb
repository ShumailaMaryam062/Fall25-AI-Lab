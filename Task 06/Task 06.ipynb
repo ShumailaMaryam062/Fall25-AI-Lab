{
 "cells": [
  {
   "cell_type": "markdown",
   "id": "d06dde97",
   "metadata": {},
   "source": [
    "#### BFS with Queue & without Node"
   ]
  },
  {
   "cell_type": "code",
   "execution_count": 16,
   "id": "e3bc2874",
   "metadata": {},
   "outputs": [
    {
     "name": "stdout",
     "output_type": "stream",
     "text": [
      "Visiting: D\n",
      "Adding to queue: E\n",
      "Adding to queue: F\n",
      "Visiting: E\n",
      "Adding to queue: A\n",
      "Adding to queue: C\n",
      "Visiting: F\n",
      "Adding to queue: G\n",
      "Visiting: A\n",
      "Goal found: A\n",
      "BFS : ['D', 'E', 'F', 'A']\n"
     ]
    }
   ],
   "source": [
    "graph = {\n",
    "    'D': ['E', 'F'],\n",
    "    'E': ['A', 'C'],\n",
    "    'F': ['G'],\n",
    "    'A': [],\n",
    "    'C': [],\n",
    "    'G': []\n",
    "}\n",
    "\n",
    "def bfs(graph, start, goal):\n",
    "    visited = []          \n",
    "    queue = [start]       \n",
    "    for node in queue:\n",
    "        if node not in visited:\n",
    "            print(\"Visiting:\", node)\n",
    "            visited.append(node)\n",
    "            if node == goal:\n",
    "                print(\"Goal found:\", goal)\n",
    "                break  \n",
    "            for child in graph[node]:\n",
    "                if child in visited:\n",
    "                    print(\"Already visited:\", child)\n",
    "                else:\n",
    "                    print(\"Adding to queue:\", child)\n",
    "                    queue.append(child)\n",
    "        else:\n",
    "            print(\"Already visited:\", node)\n",
    "    print(\"BFS :\", visited)\n",
    "bfs(graph, 'D', 'A')"
   ]
  },
  {
   "cell_type": "markdown",
   "id": "65619f1e",
   "metadata": {},
   "source": [
    "#### without Queue"
   ]
  },
  {
   "cell_type": "code",
   "execution_count": 17,
   "id": "582980bb",
   "metadata": {},
   "outputs": [
    {
     "name": "stdout",
     "output_type": "stream",
     "text": [
      "Visiting: A\n",
      "Visiting: B\n",
      "Visiting: C\n",
      "Visiting (Goal found): D\n",
      "BFS traversal: ['A', 'B', 'C', 'D']\n"
     ]
    }
   ],
   "source": [
    "graph = {\n",
    "    'A': ['B', 'C'],\n",
    "    'B': ['D', 'E'],\n",
    "    'C': ['F'],\n",
    "    'D': [],\n",
    "    'E': ['F'],\n",
    "    'F': []\n",
    "}\n",
    "\n",
    "def bfs(graph, start, goal):\n",
    "    visited = []\n",
    "    nodes = [start]\n",
    "    i = 0\n",
    "    while i < len(nodes):\n",
    "        node = nodes[i]\n",
    "        if node not in visited:\n",
    "            if node == goal:\n",
    "                print(\"Visiting (Goal found):\", node)\n",
    "                visited.append(node)\n",
    "                break\n",
    "            visited.append(node)\n",
    "            print(\"Visiting:\", node)\n",
    "            for child in graph[node]:\n",
    "                if child not in visited:\n",
    "                    nodes.append(child)\n",
    "        i += 1\n",
    "    return visited\n",
    "\n",
    "print(\"BFS traversal:\", bfs(graph, 'A', 'D'))\n"
   ]
  }
 ],
 "metadata": {
  "kernelspec": {
   "display_name": "base",
   "language": "python",
   "name": "python3"
  },
  "language_info": {
   "codemirror_mode": {
    "name": "ipython",
    "version": 3
   },
   "file_extension": ".py",
   "mimetype": "text/x-python",
   "name": "python",
   "nbconvert_exporter": "python",
   "pygments_lexer": "ipython3",
   "version": "3.13.5"
  }
 },
 "nbformat": 4,
 "nbformat_minor": 5
}
