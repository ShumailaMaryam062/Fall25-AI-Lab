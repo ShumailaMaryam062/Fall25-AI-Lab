{
 "cells": [
  {
   "cell_type": "markdown",
   "id": "7e6812f6",
   "metadata": {},
   "source": [
    "### code for A* Algorithm "
   ]
  },
  {
   "cell_type": "code",
   "execution_count": 4,
   "id": "0a8b707f",
   "metadata": {},
   "outputs": [
    {
     "name": "stdout",
     "output_type": "stream",
     "text": [
      " A* Path \n",
      "Edge 1\n",
      "Edge 2\n",
      "Edge 3\n",
      "Edge 4\n",
      "Enter heuristic values for each node:\n",
      "Graph Summary:\n",
      "A  [('B', 1.0), ('C', 4.0)]\n",
      "B  [('D', 2.0)]\n",
      "C  [('D', 1.0)]\n",
      "Heuristic values: {'A': 3.0, 'B': 2.0, 'C': 1.0}\n",
      "Start node: A\n",
      "Goal node: D\n",
      " Running A* Search \n",
      "Visiting: A\n",
      "Neighbor B: g=1.0, h=2.0, f=3.0\n",
      "Neighbor C: g=4.0, h=1.0, f=5.0\n",
      "Visiting: B\n",
      "Neighbor D: g=3.0, h=inf, f=inf\n",
      "Visiting: C\n",
      "Visiting: D\n",
      "ath found: A -> B -> D\n",
      "Total cost: 3.0\n"
     ]
    },
    {
     "data": {
      "text/plain": [
       "['A', 'B', 'D']"
      ]
     },
     "execution_count": 4,
     "metadata": {},
     "output_type": "execute_result"
    }
   ],
   "source": [
    "class Graph:\n",
    "    def __init__(self):\n",
    "        self.graph = {}\n",
    "        self.heuristic = {}\n",
    "\n",
    "    def add_edge(self, node, neighbor, cost):\n",
    "        if node not in self.graph:\n",
    "            self.graph[node] = []\n",
    "        self.graph[node].append((neighbor, cost))\n",
    "\n",
    "    def set_heuristic(self):\n",
    "        print(\"Enter heuristic values for each node:\")\n",
    "        for node in self.graph.keys():\n",
    "            h = float(input(f\"Heuristic for {node}: \"))\n",
    "            self.heuristic[node] = h\n",
    "\n",
    "    def h(self, node):\n",
    "        return self.heuristic.get(node, float('inf'))\n",
    "\n",
    "    def a_star(self, start, goal):\n",
    "        if start == goal:\n",
    "            print(f\"Start and goal are the same: {start}\")\n",
    "            return [start]\n",
    "\n",
    "        open_list = [start]\n",
    "        closed_list = []\n",
    "        g = {start: 0}\n",
    "        parent = {start: None}\n",
    "\n",
    "        print(\" Running A* Search \")\n",
    "\n",
    "        while open_list:\n",
    "            current = min(open_list, key=lambda x: g[x] + self.h(x))\n",
    "            print(\"Visiting:\", current)\n",
    "\n",
    "            if current == goal:\n",
    "                path = []\n",
    "                while current:\n",
    "                    path.append(current)\n",
    "                    current = parent[current]\n",
    "                path.reverse()\n",
    "                print(\"ath found:\", \" -> \".join(path))\n",
    "                print(\"Total cost:\", g[goal])\n",
    "                return path\n",
    "\n",
    "            open_list.remove(current)\n",
    "            closed_list.append(current)\n",
    "\n",
    "            for neighbor, cost in self.graph.get(current, []):\n",
    "                if neighbor in closed_list:\n",
    "                    continue\n",
    "\n",
    "                new_g = g[current] + cost\n",
    "\n",
    "                if neighbor not in open_list or new_g < g.get(neighbor, float('inf')):\n",
    "                    g[neighbor] = new_g\n",
    "                    parent[neighbor] = current\n",
    "                    if neighbor not in open_list:\n",
    "                        open_list.append(neighbor)\n",
    "                    print(f\"Neighbor {neighbor}: g={new_g}, h={self.h(neighbor)}, f={new_g + self.h(neighbor)}\")\n",
    "\n",
    "        print(\"No path found.\")\n",
    "        return None\n",
    "\n",
    "print(\" A* Path \")\n",
    "graph = Graph()\n",
    "\n",
    "edges = int(input(\"Enter number of edges: \"))\n",
    "for i in range(edges):\n",
    "    print(\"Edge\", i + 1)\n",
    "    u = input(\"From node: \")\n",
    "    v = input(\"To node: \")\n",
    "    w = float(input(\"Weight: \"))\n",
    "    graph.add_edge(u, v, w)\n",
    "\n",
    "graph.set_heuristic()\n",
    "\n",
    "start = input(\"Enter start node: \")\n",
    "goal = input(\"Enter goal node: \")\n",
    "print(\"Graph Summary:\")\n",
    "for node, neighbors in graph.graph.items():\n",
    "    print(f\"{node}  {neighbors}\")\n",
    "print(\"Heuristic values:\", graph.heuristic)\n",
    "print(\"Start node:\", start)\n",
    "print(\"Goal node:\", goal)\n",
    "\n",
    "graph.a_star(start, goal)"
   ]
  }
 ],
 "metadata": {
  "kernelspec": {
   "display_name": "base",
   "language": "python",
   "name": "python3"
  },
  "language_info": {
   "codemirror_mode": {
    "name": "ipython",
    "version": 3
   },
   "file_extension": ".py",
   "mimetype": "text/x-python",
   "name": "python",
   "nbconvert_exporter": "python",
   "pygments_lexer": "ipython3",
   "version": "3.13.5"
  }
 },
 "nbformat": 4,
 "nbformat_minor": 5
}
