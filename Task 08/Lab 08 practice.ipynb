{
 "cells": [
  {
   "cell_type": "code",
   "execution_count": 22,
   "id": "904b7490",
   "metadata": {},
   "outputs": [
    {
     "name": "stdout",
     "output_type": "stream",
     "text": [
      "MINIMAX ALGORITHM IMPLEMENTATION\n",
      "Leaf Nodes: [67, 90, 8, 12]\n",
      "Total Levels (Depth): 2\n",
      "Starting Player: MIN\n",
      "\n",
      "Minimax Decision Process\n",
      "Level 1 (MAX turn): comparing 67 and 90 → chooses 90 (right)\n",
      "Level 1 (MAX turn): comparing 8 and 12 → chooses 12 (right)\n",
      "Level 0 (MIN turn): comparing 90 and 12 → chooses 12 (right)\n",
      "FINAL RESULT\n",
      "Optimal Value (Root Node): 12\n",
      "Winner of Algorithm: MIN Player\n"
     ]
    }
   ],
   "source": [
    "import math\n",
    "\n",
    "def minimaxalgo(currDepth, nodeIndex, isMaxTurn, values, totalDepth):\n",
    "    if currDepth == totalDepth:\n",
    "        return values[nodeIndex]\n",
    "    if isMaxTurn:\n",
    "        left = minimaxalgo(currDepth + 1, nodeIndex * 2, False, values, totalDepth)\n",
    "        right = minimaxalgo(currDepth + 1, nodeIndex * 2 + 1, False, values, totalDepth)\n",
    "        chosen = max(left, right)\n",
    "        side = 'left' if left >= right else 'right'\n",
    "        print(f\"Level {currDepth} (MAX turn): comparing {left} and {right} → chooses {chosen} ({side})\")\n",
    "        return chosen\n",
    "\n",
    "    else:\n",
    "        left = minimaxalgo(currDepth + 1, nodeIndex * 2, True, values, totalDepth)\n",
    "        right = minimaxalgo(currDepth + 1, nodeIndex * 2 + 1, True, values, totalDepth)\n",
    "        chosen = min(left, right)\n",
    "        side = 'left' if left <= right else 'right'\n",
    "        print(f\"Level {currDepth} (MIN turn): comparing {left} and {right} → chooses {chosen} ({side})\")\n",
    "        return chosen\n",
    "\n",
    "\n",
    "print(\"MINIMAX ALGORITHM IMPLEMENTATION\")\n",
    "n = int(input(\"Enter number of leaf nodes (must be power of 2): \"))\n",
    "if (n & (n - 1)) != 0:\n",
    "    print(\"Error: Number of leaf nodes must be a power of 2 (e.g., 2, 4, 8, 16).\")\n",
    "    exit()\n",
    "values = []\n",
    "for i in range(n):\n",
    "    val = int(input(f\"Enter value for leaf node {i+1}: \"))\n",
    "    values.append(val)\n",
    "\n",
    "levels = int(math.log2(n))\n",
    "player_choice = input(\"Who starts first? (max/min): \").strip().lower()\n",
    "isMaxStart = True if player_choice == \"max\" else False\n",
    "\n",
    "print(\"Leaf Nodes:\", values)\n",
    "print(\"Total Levels (Depth):\", levels)\n",
    "print(f\"Starting Player: {'MAX' if isMaxStart else 'MIN'}\\n\")\n",
    "print(\"Minimax Decision Process\")\n",
    "\n",
    "\n",
    "final_value = minimaxalgo(0, 0, isMaxStart, values, levels)\n",
    "if isMaxStart:\n",
    "    winner = \"MAX Player (secured the optimal achievable value)\"\n",
    "else:\n",
    "    winner = \"MIN Player\"\n",
    "print(\"FINAL RESULT\")\n",
    "print(f\"Optimal Value (Root Node): {final_value}\")\n",
    "print(f\"Winner of Algorithm: {winner}\")"
   ]
  }
 ],
 "metadata": {
  "kernelspec": {
   "display_name": "base",
   "language": "python",
   "name": "python3"
  },
  "language_info": {
   "codemirror_mode": {
    "name": "ipython",
    "version": 3
   },
   "file_extension": ".py",
   "mimetype": "text/x-python",
   "name": "python",
   "nbconvert_exporter": "python",
   "pygments_lexer": "ipython3",
   "version": "3.13.5"
  }
 },
 "nbformat": 4,
 "nbformat_minor": 5
}
